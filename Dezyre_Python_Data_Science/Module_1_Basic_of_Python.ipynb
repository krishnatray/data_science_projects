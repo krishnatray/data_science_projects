{
 "cells": [
  {
   "cell_type": "markdown",
   "metadata": {},
   "source": [
    "![image](https://s3.amazonaws.com/dspython.dezyre.com/notebook_files/DS_Python/module1_v1/Slide1.JPG)"
   ]
  },
  {
   "cell_type": "markdown",
   "metadata": {},
   "source": [
    "![image](https://s3.amazonaws.com/dspython.dezyre.com/notebook_files/DS_Python/module1_v1/Slide2.JPG)"
   ]
  },
  {
   "cell_type": "code",
   "execution_count": 3,
   "metadata": {
    "collapsed": true
   },
   "outputs": [],
   "source": [
    "x = \"i am a data enthusiast\""
   ]
  },
  {
   "cell_type": "code",
   "execution_count": 5,
   "metadata": {
    "collapsed": false
   },
   "outputs": [
    {
     "name": "stdout",
     "output_type": "stream",
     "text": [
      "i am a data enthusiast\n"
     ]
    }
   ],
   "source": [
    "print x"
   ]
  },
  {
   "cell_type": "markdown",
   "metadata": {},
   "source": [
    "![image](https://s3.amazonaws.com/dspython.dezyre.com/notebook_files/DS_Python/module1_v1/Slide3.JPG)"
   ]
  },
  {
   "cell_type": "code",
   "execution_count": 6,
   "metadata": {
    "collapsed": false
   },
   "outputs": [],
   "source": [
    "#PyPy\n",
    "#CPython\n",
    "#IPython\n",
    "#Jython\n",
    "#Cython\n",
    "#Pyston\n",
    "\n",
    "#mayavi\n",
    "#VTK wrapper"
   ]
  },
  {
   "cell_type": "code",
   "execution_count": 10,
   "metadata": {
    "collapsed": false
   },
   "outputs": [
    {
     "name": "stdout",
     "output_type": "stream",
     "text": [
      "Help on built-in function open in module __builtin__:\n",
      "\n",
      "open(...)\n",
      "    open(name[, mode[, buffering]]) -> file object\n",
      "    \n",
      "    Open a file using the file() type, returns a file object.  This is the\n",
      "    preferred way to open a file.  See file.__doc__ for further information.\n",
      "\n"
     ]
    }
   ],
   "source": [
    "help(open)"
   ]
  },
  {
   "cell_type": "code",
   "execution_count": 11,
   "metadata": {
    "collapsed": false
   },
   "outputs": [
    {
     "data": {
      "text/plain": [
       "['__add__',\n",
       " '__class__',\n",
       " '__contains__',\n",
       " '__delattr__',\n",
       " '__delitem__',\n",
       " '__delslice__',\n",
       " '__doc__',\n",
       " '__eq__',\n",
       " '__format__',\n",
       " '__ge__',\n",
       " '__getattribute__',\n",
       " '__getitem__',\n",
       " '__getslice__',\n",
       " '__gt__',\n",
       " '__hash__',\n",
       " '__iadd__',\n",
       " '__imul__',\n",
       " '__init__',\n",
       " '__iter__',\n",
       " '__le__',\n",
       " '__len__',\n",
       " '__lt__',\n",
       " '__mul__',\n",
       " '__ne__',\n",
       " '__new__',\n",
       " '__reduce__',\n",
       " '__reduce_ex__',\n",
       " '__repr__',\n",
       " '__reversed__',\n",
       " '__rmul__',\n",
       " '__setattr__',\n",
       " '__setitem__',\n",
       " '__setslice__',\n",
       " '__sizeof__',\n",
       " '__str__',\n",
       " '__subclasshook__',\n",
       " 'append',\n",
       " 'count',\n",
       " 'extend',\n",
       " 'index',\n",
       " 'insert',\n",
       " 'pop',\n",
       " 'remove',\n",
       " 'reverse',\n",
       " 'sort']"
      ]
     },
     "execution_count": 11,
     "metadata": {},
     "output_type": "execute_result"
    }
   ],
   "source": [
    "dir(list)"
   ]
  },
  {
   "cell_type": "code",
   "execution_count": 12,
   "metadata": {
    "collapsed": false
   },
   "outputs": [
    {
     "name": "stdout",
     "output_type": "stream",
     "text": [
      "Help on method_descriptor:\n",
      "\n",
      "append(...)\n",
      "    L.append(object) -- append object to end\n",
      "\n"
     ]
    }
   ],
   "source": [
    "help(list.append)"
   ]
  },
  {
   "cell_type": "markdown",
   "metadata": {},
   "source": [
    "![image](https://s3.amazonaws.com/dspython.dezyre.com/notebook_files/DS_Python/module1_v1/Slide4.JPG)"
   ]
  },
  {
   "cell_type": "code",
   "execution_count": null,
   "metadata": {
    "collapsed": true
   },
   "outputs": [],
   "source": [
    "# built-in data type\n",
    "bool- No, True/False - boolean\n",
    "bytes- No, \n",
    "dict{:}, Yes, {'mr A': data scientist, 'Mr B': doctor}\n",
    "float\n",
    "int\n",
    "list[]\n",
    "set{}\n",
    "slice :\n",
    "str \n",
    "tuple(,)"
   ]
  },
  {
   "cell_type": "code",
   "execution_count": 7,
   "metadata": {
    "collapsed": false
   },
   "outputs": [],
   "source": [
    "# numpy data types\n",
    "import numpy as np\n",
    "import pandas as pd"
   ]
  },
  {
   "cell_type": "code",
   "execution_count": 8,
   "metadata": {
    "collapsed": false
   },
   "outputs": [
    {
     "data": {
      "text/plain": [
       "array([[ 1,  2, 23,  4, 56, 78, 32],\n",
       "       [21, 34, 54, 67, 76, 89, 90]])"
      ]
     },
     "execution_count": 8,
     "metadata": {},
     "output_type": "execute_result"
    }
   ],
   "source": [
    "# array\n",
    "np.array([[1,2,23,4,56,78,32],\n",
    "        [21,34,54,67,76,89,90]])"
   ]
  },
  {
   "cell_type": "code",
   "execution_count": 9,
   "metadata": {
    "collapsed": false
   },
   "outputs": [
    {
     "data": {
      "text/plain": [
       "matrix([[ 1,  2, 23,  4, 56, 78, 32],\n",
       "        [21, 34, 54, 67, 76, 89, 90]])"
      ]
     },
     "execution_count": 9,
     "metadata": {},
     "output_type": "execute_result"
    }
   ],
   "source": [
    "# matrix\n",
    "np.matrix([[1,2,23,4,56,78,32],\n",
    "        [21,34,54,67,76,89,90]])"
   ]
  },
  {
   "cell_type": "code",
   "execution_count": 10,
   "metadata": {
    "collapsed": false
   },
   "outputs": [
    {
     "data": {
      "text/plain": [
       "array([[ True,  True,  True,  True,  True,  True,  True],\n",
       "       [ True,  True,  True,  True,  True,  True,  True]], dtype=bool)"
      ]
     },
     "execution_count": 10,
     "metadata": {},
     "output_type": "execute_result"
    }
   ],
   "source": [
    "# bool_\n",
    "np.array([[1,2,23,4,56,78,32],\n",
    "        [21,34,54,67,76,89,90]],\"bool_\")"
   ]
  },
  {
   "cell_type": "code",
   "execution_count": 11,
   "metadata": {
    "collapsed": false
   },
   "outputs": [
    {
     "data": {
      "text/plain": [
       "array([[ 1,  2, 23,  4, 56, 78, 32],\n",
       "       [21, 34, 54, 67, 76, 89, 90]])"
      ]
     },
     "execution_count": 11,
     "metadata": {},
     "output_type": "execute_result"
    }
   ],
   "source": [
    "# int_\n",
    "np.array([[1,2,23,4,56,78,32],\n",
    "        [21,34,54,67,76,89,90]])"
   ]
  },
  {
   "cell_type": "code",
   "execution_count": 12,
   "metadata": {
    "collapsed": false
   },
   "outputs": [
    {
     "data": {
      "text/plain": [
       "array([[ 1,  2, 23,  4, 56, 78, 32],\n",
       "       [21, 34, 54, 67, 76, 89, 90]], dtype=int8)"
      ]
     },
     "execution_count": 12,
     "metadata": {},
     "output_type": "execute_result"
    }
   ],
   "source": [
    "# int8\n",
    "np.array([[1,2,23,4,56,78,32],\n",
    "        [21,34,54,67,76,89,90]],\"b\")\n"
   ]
  },
  {
   "cell_type": "code",
   "execution_count": 13,
   "metadata": {
    "collapsed": false
   },
   "outputs": [
    {
     "data": {
      "text/plain": [
       "array([[ 1,  2, 23,  4, 56, 78, 32],\n",
       "       [21, 34, 54, 67, 76, 89, 90]], dtype=int16)"
      ]
     },
     "execution_count": 13,
     "metadata": {},
     "output_type": "execute_result"
    }
   ],
   "source": [
    "# int16\n",
    "np.array([[1,2,23,4,56,78,32],\n",
    "        [21,34,54,67,76,89,90]],'h')"
   ]
  },
  {
   "cell_type": "code",
   "execution_count": 14,
   "metadata": {
    "collapsed": false
   },
   "outputs": [
    {
     "data": {
      "text/plain": [
       "array([[ 1,  2, 23,  4, 56, 78, 32],\n",
       "       [21, 34, 54, 67, 76, 89, 90]], dtype=int32)"
      ]
     },
     "execution_count": 14,
     "metadata": {},
     "output_type": "execute_result"
    }
   ],
   "source": [
    "# int32\n",
    "np.array([[1,2,23,4,56,78,32],\n",
    "        [21,34,54,67,76,89,90]],'i')"
   ]
  },
  {
   "cell_type": "code",
   "execution_count": 15,
   "metadata": {
    "collapsed": false
   },
   "outputs": [
    {
     "data": {
      "text/plain": [
       "array([[ 1,  2, 23,  4, 56, 78, 32],\n",
       "       [21, 34, 54, 67, 76, 89, 90]])"
      ]
     },
     "execution_count": 15,
     "metadata": {},
     "output_type": "execute_result"
    }
   ],
   "source": [
    "# int64\n",
    "np.array([[1,2,23,4,56,78,32],\n",
    "        [21,34,54,67,76,89,90]],'l')"
   ]
  },
  {
   "cell_type": "code",
   "execution_count": 16,
   "metadata": {
    "collapsed": false
   },
   "outputs": [
    {
     "data": {
      "text/plain": [
       "array([[  1.,   2.,  23.,   4.,  56.,  78.,  32.],\n",
       "       [ 21.,  34.,  54.,  67.,  76.,  89.,  90.]])"
      ]
     },
     "execution_count": 16,
     "metadata": {},
     "output_type": "execute_result"
    }
   ],
   "source": [
    "# float_\n",
    "np.array([[1,2,23,4,56,78,32],\n",
    "        [21,34,54,67,76,89,90]],'float_')"
   ]
  },
  {
   "cell_type": "code",
   "execution_count": 17,
   "metadata": {
    "collapsed": false
   },
   "outputs": [
    {
     "data": {
      "text/plain": [
       "array([[  1.,   2.,  23.,   4.,  56.,  78.,  32.],\n",
       "       [ 21.,  34.,  54.,  67.,  76.,  89.,  90.]])"
      ]
     },
     "execution_count": 17,
     "metadata": {},
     "output_type": "execute_result"
    }
   ],
   "source": [
    "np.array([[1,2,23,4.,56,78,32],\n",
    "        [21,34,54,67,76,89,90]])"
   ]
  },
  {
   "cell_type": "code",
   "execution_count": 18,
   "metadata": {
    "collapsed": false
   },
   "outputs": [
    {
     "data": {
      "text/plain": [
       "array([[  1.,   2.,  23.,   4.,  56.,  78.,  32.],\n",
       "       [ 21.,  34.,  54.,  67.,  76.,  89.,  90.]], dtype=float16)"
      ]
     },
     "execution_count": 18,
     "metadata": {},
     "output_type": "execute_result"
    }
   ],
   "source": [
    "# float16\n",
    "np.array([[1,2,23,4,56,78,32],\n",
    "        [21,34,54,67,76,89,90]],'e')"
   ]
  },
  {
   "cell_type": "code",
   "execution_count": 19,
   "metadata": {
    "collapsed": false
   },
   "outputs": [
    {
     "data": {
      "text/plain": [
       "array([[  1.,   2.,  23.,   4.,  56.,  78.,  32.],\n",
       "       [ 21.,  34.,  54.,  67.,  76.,  89.,  90.]], dtype=float32)"
      ]
     },
     "execution_count": 19,
     "metadata": {},
     "output_type": "execute_result"
    }
   ],
   "source": [
    "# float32\n",
    "np.array([[1,2,23,4,56,78,32],\n",
    "        [21,34,54,67,76,89,90]],'f')"
   ]
  },
  {
   "cell_type": "code",
   "execution_count": 20,
   "metadata": {
    "collapsed": false
   },
   "outputs": [
    {
     "data": {
      "text/plain": [
       "array([[  1.,   2.,  23.,   4.,  56.,  78.,  32.],\n",
       "       [ 21.,  34.,  54.,  67.,  76.,  89.,  90.]])"
      ]
     },
     "execution_count": 20,
     "metadata": {},
     "output_type": "execute_result"
    }
   ],
   "source": [
    "# float64\n",
    "np.array([[1,2,23,4,56,78,32],\n",
    "        [21,34,54,67,76,89,90]],'d')"
   ]
  },
  {
   "cell_type": "code",
   "execution_count": 21,
   "metadata": {
    "collapsed": false
   },
   "outputs": [
    {
     "data": {
      "text/plain": [
       "array([[ 1.0,  2.0,  23.0,  4.0,  56.0,  78.0,  32.0],\n",
       "       [ 21.0,  34.0,  54.0,  67.0,  76.0,  89.0,  90.0]], dtype=float128)"
      ]
     },
     "execution_count": 21,
     "metadata": {},
     "output_type": "execute_result"
    }
   ],
   "source": [
    "# float128\n",
    "np.array([[1,2,23,4,56,78,32],\n",
    "        [21,34,54,67,76,89,90]],'g')"
   ]
  },
  {
   "cell_type": "code",
   "execution_count": 22,
   "metadata": {
    "collapsed": false
   },
   "outputs": [
    {
     "data": {
      "text/plain": [
       "array([[  1.+0.j,   2.+0.j,  23.+0.j,   4.+0.j,  56.+0.j,  78.+0.j,\n",
       "         32.+0.j],\n",
       "       [ 21.+0.j,  34.+0.j,  54.+0.j,  67.+0.j,  76.+0.j,  89.+0.j,\n",
       "         90.+0.j]])"
      ]
     },
     "execution_count": 22,
     "metadata": {},
     "output_type": "execute_result"
    }
   ],
   "source": [
    "# complex_\n",
    "np.array([[1,2,23,4,56,78,32],\n",
    "        [21,34,54,67,76,89,90]],'complex_')"
   ]
  },
  {
   "cell_type": "code",
   "execution_count": null,
   "metadata": {
    "collapsed": true
   },
   "outputs": [],
   "source": [
    "# Assignment\n",
    "# create 1 arrary each by using\n",
    "# Text data\n",
    "# Numeric Data (float)\n",
    "# Integer Data\n",
    "# Try converting an integer array to float array"
   ]
  },
  {
   "cell_type": "code",
   "execution_count": 23,
   "metadata": {
    "collapsed": false
   },
   "outputs": [
    {
     "data": {
      "text/plain": [
       "array([['i', 'am', 'a', 'data', 'geek'],\n",
       "       ['looking', 'forward', 'to', 'learn', 'machine', 'learning']], dtype=object)"
      ]
     },
     "execution_count": 23,
     "metadata": {},
     "output_type": "execute_result"
    }
   ],
   "source": [
    "# matrix\n",
    "np.array([[\"i\",\"am\",\"a\",\"data\",\"geek\"],\n",
    "        [\"looking\",\"forward\",\"to\",\"learn\",\"machine\",\"learning\"]])"
   ]
  },
  {
   "cell_type": "code",
   "execution_count": 25,
   "metadata": {
    "collapsed": false
   },
   "outputs": [
    {
     "data": {
      "text/plain": [
       "array([[  1.,   2.,  23.,   4.,  56.,  78.,  32.],\n",
       "       [ 21.,  34.,  54.,  67.,  76.,  89.,  90.]])"
      ]
     },
     "execution_count": 25,
     "metadata": {},
     "output_type": "execute_result"
    }
   ],
   "source": [
    "# float\n",
    "np.array([[1,2,23,4,56,78,32],\n",
    "        [21,34,54,67,76,89,90]],\"float_\")"
   ]
  },
  {
   "cell_type": "code",
   "execution_count": 26,
   "metadata": {
    "collapsed": false
   },
   "outputs": [
    {
     "data": {
      "text/plain": [
       "array([[ 1,  2, 23,  4, 56, 78, 32],\n",
       "       [21, 34, 54, 67, 76, 89, 90]])"
      ]
     },
     "execution_count": 26,
     "metadata": {},
     "output_type": "execute_result"
    }
   ],
   "source": [
    "# integer\n",
    "np.array([[1,2,23,4,56,78,32],\n",
    "        [21,34,54,67,76,89,90]])"
   ]
  },
  {
   "cell_type": "code",
   "execution_count": 27,
   "metadata": {
    "collapsed": false
   },
   "outputs": [
    {
     "data": {
      "text/plain": [
       "nan"
      ]
     },
     "execution_count": 27,
     "metadata": {},
     "output_type": "execute_result"
    }
   ],
   "source": [
    "np.NaN"
   ]
  },
  {
   "cell_type": "code",
   "execution_count": 36,
   "metadata": {
    "collapsed": true
   },
   "outputs": [],
   "source": [
    "# pandas data type\n",
    "import pandas as pd"
   ]
  },
  {
   "cell_type": "code",
   "execution_count": 37,
   "metadata": {
    "collapsed": false
   },
   "outputs": [
    {
     "data": {
      "text/plain": [
       "0       [1, 2, 23, 4, 56, 78, 32]\n",
       "1    [21, 34, 54, 67, 76, 89, 90]\n",
       "dtype: object"
      ]
     },
     "execution_count": 37,
     "metadata": {},
     "output_type": "execute_result"
    }
   ],
   "source": [
    "# series\n",
    "pd.Series([[1,2,23,4,56,78,32],\n",
    "        [21,34,54,67,76,89,90]])"
   ]
  },
  {
   "cell_type": "code",
   "execution_count": 39,
   "metadata": {
    "collapsed": false
   },
   "outputs": [
    {
     "data": {
      "text/plain": [
       "0    [1, 2, 23, 4, 56, 78, 32, 21, 34, 54, 67, 76, ...\n",
       "dtype: object"
      ]
     },
     "execution_count": 39,
     "metadata": {},
     "output_type": "execute_result"
    }
   ],
   "source": [
    "# series - one dimensional\n",
    "pd.Series([[1,2,23,4,56,78,32, 21,34,54,67,76,89,90]])"
   ]
  },
  {
   "cell_type": "code",
   "execution_count": 37,
   "metadata": {
    "collapsed": false
   },
   "outputs": [
    {
     "data": {
      "text/html": [
       "<div>\n",
       "<table border=\"1\" class=\"dataframe\">\n",
       "  <thead>\n",
       "    <tr style=\"text-align: right;\">\n",
       "      <th></th>\n",
       "      <th>0</th>\n",
       "      <th>1</th>\n",
       "      <th>2</th>\n",
       "      <th>3</th>\n",
       "      <th>4</th>\n",
       "      <th>5</th>\n",
       "      <th>6</th>\n",
       "    </tr>\n",
       "  </thead>\n",
       "  <tbody>\n",
       "    <tr>\n",
       "      <th>0</th>\n",
       "      <td>1</td>\n",
       "      <td>2</td>\n",
       "      <td>23</td>\n",
       "      <td>4</td>\n",
       "      <td>56</td>\n",
       "      <td>78</td>\n",
       "      <td>32</td>\n",
       "    </tr>\n",
       "    <tr>\n",
       "      <th>1</th>\n",
       "      <td>21</td>\n",
       "      <td>34</td>\n",
       "      <td>54</td>\n",
       "      <td>67</td>\n",
       "      <td>76</td>\n",
       "      <td>89</td>\n",
       "      <td>90</td>\n",
       "    </tr>\n",
       "    <tr>\n",
       "      <th>2</th>\n",
       "      <td>i</td>\n",
       "      <td>am</td>\n",
       "      <td>a</td>\n",
       "      <td>data</td>\n",
       "      <td>geek</td>\n",
       "      <td>go</td>\n",
       "      <td>go</td>\n",
       "    </tr>\n",
       "    <tr>\n",
       "      <th>3</th>\n",
       "      <td>(1+0j)</td>\n",
       "      <td>(2+0j)</td>\n",
       "      <td>(23+0j)</td>\n",
       "      <td>(4+0j)</td>\n",
       "      <td>(56+0j)</td>\n",
       "      <td>(78+0j)</td>\n",
       "      <td>(32+0j)</td>\n",
       "    </tr>\n",
       "  </tbody>\n",
       "</table>\n",
       "</div>"
      ],
      "text/plain": [
       "        0       1        2       3        4        5        6\n",
       "0       1       2       23       4       56       78       32\n",
       "1      21      34       54      67       76       89       90\n",
       "2       i      am        a    data     geek       go       go\n",
       "3  (1+0j)  (2+0j)  (23+0j)  (4+0j)  (56+0j)  (78+0j)  (32+0j)"
      ]
     },
     "execution_count": 37,
     "metadata": {},
     "output_type": "execute_result"
    }
   ],
   "source": [
    "# data frame\n",
    "df=pd.DataFrame([[1.,2,23,4,56,78,32],\n",
    "        [21,34,54,67,76,89,90],\n",
    "             [\"i\",\"am\",\"a\",\"data\",\"geek\",\"go\",\"go\"],\n",
    "             [  1.+0.j,   2.+0.j,  23.+0.j,   4.+0.j,  56.+0.j,  78.+0.j,\n",
    "         32.+0.j]])\n",
    "df"
   ]
  },
  {
   "cell_type": "code",
   "execution_count": 32,
   "metadata": {
    "collapsed": false
   },
   "outputs": [
    {
     "data": {
      "text/plain": [
       "array([[1.0, 2, 23, 4, 56, 78, 32],\n",
       "       [21, 34, 54, 67, 76, 89, 90],\n",
       "       ['i', 'am', 'a', 'data', 'geek', 'go', 'go'],\n",
       "       [(1+0j), (2+0j), (23+0j), (4+0j), (56+0j), (78+0j), (32+0j)]], dtype=object)"
      ]
     },
     "execution_count": 32,
     "metadata": {},
     "output_type": "execute_result"
    }
   ],
   "source": [
    "df.values"
   ]
  },
  {
   "cell_type": "code",
   "execution_count": 43,
   "metadata": {
    "collapsed": false
   },
   "outputs": [
    {
     "data": {
      "text/plain": [
       "<class 'pandas.core.panel.Panel'>\n",
       "Dimensions: 1 (items) x 1 (major_axis) x 14 (minor_axis)\n",
       "Items axis: 0 to 0\n",
       "Major_axis axis: 0 to 0\n",
       "Minor_axis axis: 0 to 13"
      ]
     },
     "execution_count": 43,
     "metadata": {},
     "output_type": "execute_result"
    }
   ],
   "source": [
    "# Panel\n",
    "pd.Panel([[[1,2,23,4,56,78,32,21,34,54,67,76,89,90]]])"
   ]
  },
  {
   "cell_type": "code",
   "execution_count": 56,
   "metadata": {
    "collapsed": false
   },
   "outputs": [
    {
     "data": {
      "text/html": [
       "<div>\n",
       "<table border=\"1\" class=\"dataframe\">\n",
       "  <thead>\n",
       "    <tr style=\"text-align: right;\">\n",
       "      <th></th>\n",
       "      <th></th>\n",
       "      <th>0.00632</th>\n",
       "      <th>Unnamed: 1</th>\n",
       "      <th>18.00</th>\n",
       "      <th>Unnamed: 3</th>\n",
       "      <th>Unnamed: 4</th>\n",
       "      <th>2.310</th>\n",
       "      <th>Unnamed: 6</th>\n",
       "      <th>0</th>\n",
       "      <th>Unnamed: 8</th>\n",
       "      <th>0.5380</th>\n",
       "      <th>...</th>\n",
       "      <th>Unnamed: 19</th>\n",
       "      <th>296.0</th>\n",
       "      <th>Unnamed: 21</th>\n",
       "      <th>15.30</th>\n",
       "      <th>396.90</th>\n",
       "      <th>Unnamed: 24</th>\n",
       "      <th>Unnamed: 25</th>\n",
       "      <th>4.98</th>\n",
       "      <th>Unnamed: 27</th>\n",
       "      <th>24.00</th>\n",
       "    </tr>\n",
       "  </thead>\n",
       "  <tbody>\n",
       "    <tr>\n",
       "      <th rowspan=\"12\" valign=\"top\">NaN</th>\n",
       "      <th>0.02731</th>\n",
       "      <td>NaN</td>\n",
       "      <td>NaN</td>\n",
       "      <td>0</td>\n",
       "      <td>NaN</td>\n",
       "      <td>NaN</td>\n",
       "      <td>7.07</td>\n",
       "      <td>NaN</td>\n",
       "      <td>0</td>\n",
       "      <td>NaN</td>\n",
       "      <td>0.469</td>\n",
       "      <td>...</td>\n",
       "      <td>NaN</td>\n",
       "      <td>242.0</td>\n",
       "      <td>NaN</td>\n",
       "      <td>17.80</td>\n",
       "      <td>396.90</td>\n",
       "      <td>NaN</td>\n",
       "      <td>NaN</td>\n",
       "      <td>9.14</td>\n",
       "      <td>NaN</td>\n",
       "      <td>21.6</td>\n",
       "    </tr>\n",
       "    <tr>\n",
       "      <th>0.02729</th>\n",
       "      <td>NaN</td>\n",
       "      <td>NaN</td>\n",
       "      <td>0</td>\n",
       "      <td>NaN</td>\n",
       "      <td>NaN</td>\n",
       "      <td>7.07</td>\n",
       "      <td>NaN</td>\n",
       "      <td>0</td>\n",
       "      <td>NaN</td>\n",
       "      <td>0.469</td>\n",
       "      <td>...</td>\n",
       "      <td>NaN</td>\n",
       "      <td>242.0</td>\n",
       "      <td>NaN</td>\n",
       "      <td>17.80</td>\n",
       "      <td>392.83</td>\n",
       "      <td>NaN</td>\n",
       "      <td>NaN</td>\n",
       "      <td>4.03</td>\n",
       "      <td>NaN</td>\n",
       "      <td>34.7</td>\n",
       "    </tr>\n",
       "    <tr>\n",
       "      <th>0.03237</th>\n",
       "      <td>NaN</td>\n",
       "      <td>NaN</td>\n",
       "      <td>0</td>\n",
       "      <td>NaN</td>\n",
       "      <td>NaN</td>\n",
       "      <td>2.18</td>\n",
       "      <td>NaN</td>\n",
       "      <td>0</td>\n",
       "      <td>NaN</td>\n",
       "      <td>0.458</td>\n",
       "      <td>...</td>\n",
       "      <td>NaN</td>\n",
       "      <td>222.0</td>\n",
       "      <td>NaN</td>\n",
       "      <td>18.70</td>\n",
       "      <td>394.63</td>\n",
       "      <td>NaN</td>\n",
       "      <td>NaN</td>\n",
       "      <td>2.94</td>\n",
       "      <td>NaN</td>\n",
       "      <td>33.4</td>\n",
       "    </tr>\n",
       "    <tr>\n",
       "      <th>0.06905</th>\n",
       "      <td>NaN</td>\n",
       "      <td>NaN</td>\n",
       "      <td>0</td>\n",
       "      <td>NaN</td>\n",
       "      <td>NaN</td>\n",
       "      <td>2.18</td>\n",
       "      <td>NaN</td>\n",
       "      <td>0</td>\n",
       "      <td>NaN</td>\n",
       "      <td>0.458</td>\n",
       "      <td>...</td>\n",
       "      <td>NaN</td>\n",
       "      <td>222.0</td>\n",
       "      <td>NaN</td>\n",
       "      <td>18.70</td>\n",
       "      <td>396.90</td>\n",
       "      <td>NaN</td>\n",
       "      <td>NaN</td>\n",
       "      <td>5.33</td>\n",
       "      <td>NaN</td>\n",
       "      <td>36.2</td>\n",
       "    </tr>\n",
       "    <tr>\n",
       "      <th>0.02985</th>\n",
       "      <td>NaN</td>\n",
       "      <td>NaN</td>\n",
       "      <td>0</td>\n",
       "      <td>NaN</td>\n",
       "      <td>NaN</td>\n",
       "      <td>2.18</td>\n",
       "      <td>NaN</td>\n",
       "      <td>0</td>\n",
       "      <td>NaN</td>\n",
       "      <td>0.458</td>\n",
       "      <td>...</td>\n",
       "      <td>NaN</td>\n",
       "      <td>222.0</td>\n",
       "      <td>NaN</td>\n",
       "      <td>18.70</td>\n",
       "      <td>394.12</td>\n",
       "      <td>NaN</td>\n",
       "      <td>NaN</td>\n",
       "      <td>5.21</td>\n",
       "      <td>NaN</td>\n",
       "      <td>28.7</td>\n",
       "    </tr>\n",
       "    <tr>\n",
       "      <th>0.08829</th>\n",
       "      <td>NaN</td>\n",
       "      <td>12.5</td>\n",
       "      <td>NaN</td>\n",
       "      <td>NaN</td>\n",
       "      <td>7.87</td>\n",
       "      <td>NaN</td>\n",
       "      <td>0</td>\n",
       "      <td>NaN</td>\n",
       "      <td>0.524</td>\n",
       "      <td>NaN</td>\n",
       "      <td>...</td>\n",
       "      <td>311</td>\n",
       "      <td>NaN</td>\n",
       "      <td>15.20</td>\n",
       "      <td>395.60</td>\n",
       "      <td>NaN</td>\n",
       "      <td>12.43</td>\n",
       "      <td>NaN</td>\n",
       "      <td>22.90</td>\n",
       "      <td>NaN</td>\n",
       "      <td>NaN</td>\n",
       "    </tr>\n",
       "    <tr>\n",
       "      <th>0.14455</th>\n",
       "      <td>NaN</td>\n",
       "      <td>12.5</td>\n",
       "      <td>NaN</td>\n",
       "      <td>NaN</td>\n",
       "      <td>7.87</td>\n",
       "      <td>NaN</td>\n",
       "      <td>0</td>\n",
       "      <td>NaN</td>\n",
       "      <td>0.524</td>\n",
       "      <td>NaN</td>\n",
       "      <td>...</td>\n",
       "      <td>311</td>\n",
       "      <td>NaN</td>\n",
       "      <td>15.20</td>\n",
       "      <td>396.90</td>\n",
       "      <td>NaN</td>\n",
       "      <td>19.15</td>\n",
       "      <td>NaN</td>\n",
       "      <td>27.10</td>\n",
       "      <td>NaN</td>\n",
       "      <td>NaN</td>\n",
       "    </tr>\n",
       "    <tr>\n",
       "      <th>0.21124</th>\n",
       "      <td>NaN</td>\n",
       "      <td>12.5</td>\n",
       "      <td>NaN</td>\n",
       "      <td>NaN</td>\n",
       "      <td>7.87</td>\n",
       "      <td>NaN</td>\n",
       "      <td>0</td>\n",
       "      <td>NaN</td>\n",
       "      <td>0.524</td>\n",
       "      <td>NaN</td>\n",
       "      <td>...</td>\n",
       "      <td>NaN</td>\n",
       "      <td>15.2</td>\n",
       "      <td>386.63</td>\n",
       "      <td>NaN</td>\n",
       "      <td>29.93</td>\n",
       "      <td>NaN</td>\n",
       "      <td>16.5</td>\n",
       "      <td>NaN</td>\n",
       "      <td>NaN</td>\n",
       "      <td>NaN</td>\n",
       "    </tr>\n",
       "    <tr>\n",
       "      <th>0.17004</th>\n",
       "      <td>NaN</td>\n",
       "      <td>12.5</td>\n",
       "      <td>NaN</td>\n",
       "      <td>NaN</td>\n",
       "      <td>7.87</td>\n",
       "      <td>NaN</td>\n",
       "      <td>0</td>\n",
       "      <td>NaN</td>\n",
       "      <td>0.524</td>\n",
       "      <td>NaN</td>\n",
       "      <td>...</td>\n",
       "      <td>311</td>\n",
       "      <td>NaN</td>\n",
       "      <td>15.20</td>\n",
       "      <td>386.71</td>\n",
       "      <td>NaN</td>\n",
       "      <td>17.10</td>\n",
       "      <td>NaN</td>\n",
       "      <td>18.90</td>\n",
       "      <td>NaN</td>\n",
       "      <td>NaN</td>\n",
       "    </tr>\n",
       "    <tr>\n",
       "      <th>0.22489</th>\n",
       "      <td>NaN</td>\n",
       "      <td>12.5</td>\n",
       "      <td>NaN</td>\n",
       "      <td>NaN</td>\n",
       "      <td>7.87</td>\n",
       "      <td>NaN</td>\n",
       "      <td>0</td>\n",
       "      <td>NaN</td>\n",
       "      <td>0.524</td>\n",
       "      <td>NaN</td>\n",
       "      <td>...</td>\n",
       "      <td>311</td>\n",
       "      <td>NaN</td>\n",
       "      <td>15.20</td>\n",
       "      <td>392.52</td>\n",
       "      <td>NaN</td>\n",
       "      <td>20.45</td>\n",
       "      <td>NaN</td>\n",
       "      <td>15.00</td>\n",
       "      <td>NaN</td>\n",
       "      <td>NaN</td>\n",
       "    </tr>\n",
       "    <tr>\n",
       "      <th>0.11747</th>\n",
       "      <td>NaN</td>\n",
       "      <td>12.5</td>\n",
       "      <td>NaN</td>\n",
       "      <td>NaN</td>\n",
       "      <td>7.87</td>\n",
       "      <td>NaN</td>\n",
       "      <td>0</td>\n",
       "      <td>NaN</td>\n",
       "      <td>0.524</td>\n",
       "      <td>NaN</td>\n",
       "      <td>...</td>\n",
       "      <td>311</td>\n",
       "      <td>NaN</td>\n",
       "      <td>15.20</td>\n",
       "      <td>396.90</td>\n",
       "      <td>NaN</td>\n",
       "      <td>13.27</td>\n",
       "      <td>NaN</td>\n",
       "      <td>18.90</td>\n",
       "      <td>NaN</td>\n",
       "      <td>NaN</td>\n",
       "    </tr>\n",
       "    <tr>\n",
       "      <th>0.09378</th>\n",
       "      <td>NaN</td>\n",
       "      <td>12.5</td>\n",
       "      <td>NaN</td>\n",
       "      <td>NaN</td>\n",
       "      <td>7.87</td>\n",
       "      <td>NaN</td>\n",
       "      <td>0</td>\n",
       "      <td>NaN</td>\n",
       "      <td>0.524</td>\n",
       "      <td>NaN</td>\n",
       "      <td>...</td>\n",
       "      <td>311</td>\n",
       "      <td>NaN</td>\n",
       "      <td>15.20</td>\n",
       "      <td>390.50</td>\n",
       "      <td>NaN</td>\n",
       "      <td>15.71</td>\n",
       "      <td>NaN</td>\n",
       "      <td>21.70</td>\n",
       "      <td>NaN</td>\n",
       "      <td>NaN</td>\n",
       "    </tr>\n",
       "  </tbody>\n",
       "</table>\n",
       "<p>12 rows × 29 columns</p>\n",
       "</div>"
      ],
      "text/plain": [
       "             0.00632  Unnamed: 1  18.00  Unnamed: 3  Unnamed: 4  2.310  \\\n",
       "NaN 0.02731      NaN         NaN      0         NaN         NaN   7.07   \n",
       "    0.02729      NaN         NaN      0         NaN         NaN   7.07   \n",
       "    0.03237      NaN         NaN      0         NaN         NaN   2.18   \n",
       "    0.06905      NaN         NaN      0         NaN         NaN   2.18   \n",
       "    0.02985      NaN         NaN      0         NaN         NaN   2.18   \n",
       "    0.08829      NaN        12.5    NaN         NaN        7.87    NaN   \n",
       "    0.14455      NaN        12.5    NaN         NaN        7.87    NaN   \n",
       "    0.21124      NaN        12.5    NaN         NaN        7.87    NaN   \n",
       "    0.17004      NaN        12.5    NaN         NaN        7.87    NaN   \n",
       "    0.22489      NaN        12.5    NaN         NaN        7.87    NaN   \n",
       "    0.11747      NaN        12.5    NaN         NaN        7.87    NaN   \n",
       "    0.09378      NaN        12.5    NaN         NaN        7.87    NaN   \n",
       "\n",
       "             Unnamed: 6   0  Unnamed: 8  0.5380  ...    Unnamed: 19  296.0  \\\n",
       "NaN 0.02731         NaN   0         NaN   0.469  ...            NaN  242.0   \n",
       "    0.02729         NaN   0         NaN   0.469  ...            NaN  242.0   \n",
       "    0.03237         NaN   0         NaN   0.458  ...            NaN  222.0   \n",
       "    0.06905         NaN   0         NaN   0.458  ...            NaN  222.0   \n",
       "    0.02985         NaN   0         NaN   0.458  ...            NaN  222.0   \n",
       "    0.08829           0 NaN       0.524     NaN  ...            311    NaN   \n",
       "    0.14455           0 NaN       0.524     NaN  ...            311    NaN   \n",
       "    0.21124           0 NaN       0.524     NaN  ...            NaN   15.2   \n",
       "    0.17004           0 NaN       0.524     NaN  ...            311    NaN   \n",
       "    0.22489           0 NaN       0.524     NaN  ...            311    NaN   \n",
       "    0.11747           0 NaN       0.524     NaN  ...            311    NaN   \n",
       "    0.09378           0 NaN       0.524     NaN  ...            311    NaN   \n",
       "\n",
       "             Unnamed: 21   15.30  396.90  Unnamed: 24  Unnamed: 25   4.98  \\\n",
       "NaN 0.02731          NaN   17.80  396.90          NaN          NaN   9.14   \n",
       "    0.02729          NaN   17.80  392.83          NaN          NaN   4.03   \n",
       "    0.03237          NaN   18.70  394.63          NaN          NaN   2.94   \n",
       "    0.06905          NaN   18.70  396.90          NaN          NaN   5.33   \n",
       "    0.02985          NaN   18.70  394.12          NaN          NaN   5.21   \n",
       "    0.08829        15.20  395.60     NaN        12.43          NaN  22.90   \n",
       "    0.14455        15.20  396.90     NaN        19.15          NaN  27.10   \n",
       "    0.21124       386.63     NaN   29.93          NaN         16.5    NaN   \n",
       "    0.17004        15.20  386.71     NaN        17.10          NaN  18.90   \n",
       "    0.22489        15.20  392.52     NaN        20.45          NaN  15.00   \n",
       "    0.11747        15.20  396.90     NaN        13.27          NaN  18.90   \n",
       "    0.09378        15.20  390.50     NaN        15.71          NaN  21.70   \n",
       "\n",
       "             Unnamed: 27  24.00  \n",
       "NaN 0.02731          NaN   21.6  \n",
       "    0.02729          NaN   34.7  \n",
       "    0.03237          NaN   33.4  \n",
       "    0.06905          NaN   36.2  \n",
       "    0.02985          NaN   28.7  \n",
       "    0.08829          NaN    NaN  \n",
       "    0.14455          NaN    NaN  \n",
       "    0.21124          NaN    NaN  \n",
       "    0.17004          NaN    NaN  \n",
       "    0.22489          NaN    NaN  \n",
       "    0.11747          NaN    NaN  \n",
       "    0.09378          NaN    NaN  \n",
       "\n",
       "[12 rows x 29 columns]"
      ]
     },
     "execution_count": 56,
     "metadata": {},
     "output_type": "execute_result"
    }
   ],
   "source": [
    "df=pd.read_csv(\"test.csv\",sep=\" \")\n",
    "df"
   ]
  },
  {
   "cell_type": "code",
   "execution_count": 35,
   "metadata": {
    "collapsed": false
   },
   "outputs": [
    {
     "data": {
      "text/plain": [
       "<class 'pandas.core.panel.Panel'>\n",
       "Dimensions: 1 (items) x 1 (major_axis) x 14 (minor_axis)\n",
       "Items axis: 0 to 0\n",
       "Major_axis axis: 0 to 0\n",
       "Minor_axis axis: 0 to 13"
      ]
     },
     "execution_count": 35,
     "metadata": {},
     "output_type": "execute_result"
    }
   ],
   "source": [
    "pd.Panel([[[1,2,23,4,56,78,32,21,34,54,67,76,89,90]]])"
   ]
  },
  {
   "cell_type": "code",
   "execution_count": 60,
   "metadata": {
    "collapsed": false
   },
   "outputs": [
    {
     "data": {
      "text/plain": [
       "[Int64Index([0], dtype='int64'),\n",
       " Int64Index([0], dtype='int64'),\n",
       " Int64Index([0], dtype='int64'),\n",
       " Int64Index([0, 1, 2, 3, 4, 5, 6, 7, 8, 9, 10, 11, 12, 13], dtype='int64')]"
      ]
     },
     "execution_count": 60,
     "metadata": {},
     "output_type": "execute_result"
    }
   ],
   "source": [
    "# panel4d\n",
    "dd = pd.Panel4D([[[[1,2,23,4,56,78,32,21,34,54,67,76,89,90]]]],dtype=str)\n",
    "dd.axes"
   ]
  },
  {
   "cell_type": "code",
   "execution_count": 63,
   "metadata": {
    "collapsed": false
   },
   "outputs": [
    {
     "data": {
      "text/plain": [
       "<bound method Panel4D.get_values of <class 'pandas.core.panelnd.Panel4D'>\n",
       "Dimensions: 1 (labels) x 1 (items) x 1 (major_axis) x 14 (minor_axis)\n",
       "Labels axis: 0 to 0\n",
       "Items axis: 0 to 0\n",
       "Major_axis axis: 0 to 0\n",
       "Minor_axis axis: 0 to 13>"
      ]
     },
     "execution_count": 63,
     "metadata": {},
     "output_type": "execute_result"
    }
   ],
   "source": [
    "dd."
   ]
  },
  {
   "cell_type": "markdown",
   "metadata": {},
   "source": [
    "![image](https://s3.amazonaws.com/dspython.dezyre.com/notebook_files/DS_Python/module1_v1/Slide5.JPG)"
   ]
  },
  {
   "cell_type": "code",
   "execution_count": null,
   "metadata": {
    "collapsed": true
   },
   "outputs": [],
   "source": []
  },
  {
   "cell_type": "code",
   "execution_count": null,
   "metadata": {
    "collapsed": true
   },
   "outputs": [],
   "source": []
  },
  {
   "cell_type": "markdown",
   "metadata": {},
   "source": [
    "![image](https://s3.amazonaws.com/dspython.dezyre.com/notebook_files/DS_Python/module1_v1/Slide6.JPG)"
   ]
  },
  {
   "cell_type": "markdown",
   "metadata": {},
   "source": [
    "![image](https://s3.amazonaws.com/dspython.dezyre.com/notebook_files/DS_Python/module1_v1/Slide7.JPG)"
   ]
  },
  {
   "cell_type": "code",
   "execution_count": 46,
   "metadata": {
    "collapsed": false
   },
   "outputs": [
    {
     "data": {
      "text/plain": [
       "True"
      ]
     },
     "execution_count": 46,
     "metadata": {},
     "output_type": "execute_result"
    }
   ],
   "source": [
    "# strings operation\n",
    "s = 'data science'\n",
    "t = \"data science\"\n",
    "t == s\n",
    "u = \"\"\"data science\"\"\"\n",
    "t == u\n",
    "s == u"
   ]
  },
  {
   "cell_type": "code",
   "execution_count": 47,
   "metadata": {
    "collapsed": false
   },
   "outputs": [
    {
     "data": {
      "text/plain": [
       "{'a': 12, 'b': 23}"
      ]
     },
     "execution_count": 47,
     "metadata": {},
     "output_type": "execute_result"
    }
   ],
   "source": [
    "# dictionary operation\n",
    "dict(a=12,b=23)"
   ]
  },
  {
   "cell_type": "code",
   "execution_count": 51,
   "metadata": {
    "collapsed": false
   },
   "outputs": [
    {
     "name": "stdout",
     "output_type": "stream",
     "text": [
      "{1: 'Monday', 2: 'Tuesday', 3: 'wednessday'}\n"
     ]
    }
   ],
   "source": [
    "a = {1: 'Monday',2: 'Tuesday',3: 'wednessday'}\n",
    "print a"
   ]
  },
  {
   "cell_type": "code",
   "execution_count": 52,
   "metadata": {
    "collapsed": true
   },
   "outputs": [],
   "source": [
    "b = dict()"
   ]
  },
  {
   "cell_type": "markdown",
   "metadata": {},
   "source": [
    "![image](https://s3.amazonaws.com/dspython.dezyre.com/notebook_files/DS_Python/module1_v1/Slide8.JPG)"
   ]
  },
  {
   "cell_type": "code",
   "execution_count": null,
   "metadata": {
    "collapsed": true
   },
   "outputs": [],
   "source": []
  },
  {
   "cell_type": "markdown",
   "metadata": {},
   "source": [
    "![image](https://s3.amazonaws.com/dspython.dezyre.com/notebook_files/DS_Python/module1_v1/Slide9.JPG)"
   ]
  },
  {
   "cell_type": "markdown",
   "metadata": {},
   "source": [
    "![image](https://s3.amazonaws.com/dspython.dezyre.com/notebook_files/DS_Python/module1_v1/Slide10.JPG)"
   ]
  },
  {
   "cell_type": "markdown",
   "metadata": {},
   "source": [
    "![image](https://s3.amazonaws.com/dspython.dezyre.com/notebook_files/DS_Python/module1_v1/Slide11.JPG)"
   ]
  },
  {
   "cell_type": "markdown",
   "metadata": {},
   "source": [
    "![image](https://s3.amazonaws.com/dspython.dezyre.com/notebook_files/DS_Python/module1_v1/Slide11.JPG)"
   ]
  },
  {
   "cell_type": "code",
   "execution_count": 3,
   "metadata": {
    "collapsed": false
   },
   "outputs": [],
   "source": [
    "import pandas as pd\n",
    "\n",
    "import nltk as nl"
   ]
  },
  {
   "cell_type": "markdown",
   "metadata": {},
   "source": [
    "![image](https://s3.amazonaws.com/dspython.dezyre.com/notebook_files/DS_Python/module1_v1/Slide12.JPG)"
   ]
  },
  {
   "cell_type": "markdown",
   "metadata": {},
   "source": [
    "![image](https://s3.amazonaws.com/dspython.dezyre.com/notebook_files/DS_Python/module1_v1/Slide13.JPG)"
   ]
  },
  {
   "cell_type": "markdown",
   "metadata": {},
   "source": [
    "![image](https://s3.amazonaws.com/dspython.dezyre.com/notebook_files/DS_Python/module1_v1/Slide14.JPG)"
   ]
  },
  {
   "cell_type": "code",
   "execution_count": 54,
   "metadata": {
    "collapsed": false
   },
   "outputs": [
    {
     "data": {
      "text/plain": [
       "31"
      ]
     },
     "execution_count": 54,
     "metadata": {},
     "output_type": "execute_result"
    }
   ],
   "source": [
    "# anonymous function - lambdaa\n",
    "#f(x) = 3x^2 + 2x - 2\n",
    "f = lambda x: 3*x**2 + 2*x - 2\n",
    "f(3)"
   ]
  },
  {
   "cell_type": "code",
   "execution_count": 55,
   "metadata": {
    "collapsed": true
   },
   "outputs": [],
   "source": [
    "def polynomial(a, b, c):\n",
    "    return lambda x: a*x**2 + b*x + c"
   ]
  },
  {
   "cell_type": "code",
   "execution_count": 57,
   "metadata": {
    "collapsed": false
   },
   "outputs": [
    {
     "data": {
      "text/plain": [
       "<function __main__.<lambda>>"
      ]
     },
     "execution_count": 57,
     "metadata": {},
     "output_type": "execute_result"
    }
   ],
   "source": [
    "polynomial(3,2,4)"
   ]
  },
  {
   "cell_type": "markdown",
   "metadata": {},
   "source": [
    "![image](https://s3.amazonaws.com/dspython.dezyre.com/notebook_files/DS_Python/module1_v1/Slide15.JPG)"
   ]
  },
  {
   "cell_type": "markdown",
   "metadata": {},
   "source": [
    "![image](https://s3.amazonaws.com/dspython.dezyre.com/notebook_files/DS_Python/module1_v1/Slide16.JPG)"
   ]
  },
  {
   "cell_type": "markdown",
   "metadata": {},
   "source": [
    "![image](https://s3.amazonaws.com/dspython.dezyre.com/notebook_files/DS_Python/module1_v1/Slide17.JPG)"
   ]
  },
  {
   "cell_type": "markdown",
   "metadata": {},
   "source": [
    "![image](https://s3.amazonaws.com/dspython.dezyre.com/notebook_files/DS_Python/module1_v1/Slide18.JPG)"
   ]
  },
  {
   "cell_type": "markdown",
   "metadata": {},
   "source": [
    "![image](https://s3.amazonaws.com/dspython.dezyre.com/notebook_files/DS_Python/module1_v1/Slide19.JPG)"
   ]
  },
  {
   "cell_type": "markdown",
   "metadata": {},
   "source": [
    "![image](https://s3.amazonaws.com/dspython.dezyre.com/notebook_files/DS_Python/module1_v1/Slide20.JPG)"
   ]
  },
  {
   "cell_type": "markdown",
   "metadata": {},
   "source": [
    "![image](https://s3.amazonaws.com/dspython.dezyre.com/notebook_files/DS_Python/module1_v1/Slide21.JPG)"
   ]
  },
  {
   "cell_type": "markdown",
   "metadata": {},
   "source": [
    "![image](https://s3.amazonaws.com/dspython.dezyre.com/notebook_files/DS_Python/module1_v1/Slide22.JPG)"
   ]
  },
  {
   "cell_type": "markdown",
   "metadata": {},
   "source": [
    "![image](https://s3.amazonaws.com/dspython.dezyre.com/notebook_files/DS_Python/module1_v1/Slide23.JPG)"
   ]
  },
  {
   "cell_type": "markdown",
   "metadata": {},
   "source": [
    "![image](https://s3.amazonaws.com/dspython.dezyre.com/notebook_files/DS_Python/module1_v1/Slide24.JPG)"
   ]
  },
  {
   "cell_type": "code",
   "execution_count": 58,
   "metadata": {
    "collapsed": true
   },
   "outputs": [],
   "source": [
    "# modules and import\n",
    "import os"
   ]
  },
  {
   "cell_type": "code",
   "execution_count": 61,
   "metadata": {
    "collapsed": false
   },
   "outputs": [
    {
     "data": {
      "text/plain": [
       "'/home/ubuntu/anaconda2/lib/python2.7/os.pyc'"
      ]
     },
     "execution_count": 61,
     "metadata": {},
     "output_type": "execute_result"
    }
   ],
   "source": [
    "os.__file__"
   ]
  },
  {
   "cell_type": "code",
   "execution_count": 62,
   "metadata": {
    "collapsed": false
   },
   "outputs": [
    {
     "data": {
      "text/plain": [
       "<function posix.listdir>"
      ]
     },
     "execution_count": 62,
     "metadata": {},
     "output_type": "execute_result"
    }
   ],
   "source": [
    "os.listdir"
   ]
  },
  {
   "cell_type": "code",
   "execution_count": 63,
   "metadata": {
    "collapsed": true
   },
   "outputs": [],
   "source": [
    "from os import listdir"
   ]
  },
  {
   "cell_type": "code",
   "execution_count": 64,
   "metadata": {
    "collapsed": true
   },
   "outputs": [],
   "source": [
    "import nltk.tokenize"
   ]
  },
  {
   "cell_type": "code",
   "execution_count": null,
   "metadata": {
    "collapsed": true
   },
   "outputs": [],
   "source": [
    "pip install pandas\n"
   ]
  }
 ],
 "metadata": {
  "kernelspec": {
   "display_name": "Python 2",
   "language": "python",
   "name": "python2"
  },
  "language_info": {
   "codemirror_mode": {
    "name": "ipython",
    "version": 2
   },
   "file_extension": ".py",
   "mimetype": "text/x-python",
   "name": "python",
   "nbconvert_exporter": "python",
   "pygments_lexer": "ipython2",
   "version": "2.7.12"
  }
 },
 "nbformat": 4,
 "nbformat_minor": 0
}
